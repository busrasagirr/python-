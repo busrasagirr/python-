{
  "nbformat": 4,
  "nbformat_minor": 0,
  "metadata": {
    "colab": {
      "name": "Proje2.ipynb",
      "version": "0.3.2",
      "provenance": [],
      "collapsed_sections": [],
      "include_colab_link": true
    },
    "kernelspec": {
      "name": "python3",
      "display_name": "Python 3"
    }
  },
  "cells": [
    {
      "cell_type": "markdown",
      "metadata": {
        "id": "view-in-github",
        "colab_type": "text"
      },
      "source": [
        "<a href=\"https://colab.research.google.com/github/busrasagirr/python-dataset/blob/master/Proje2.ipynb\" target=\"_parent\"><img src=\"https://colab.research.google.com/assets/colab-badge.svg\" alt=\"Open In Colab\"/></a>"
      ]
    },
    {
      "cell_type": "code",
      "metadata": {
        "id": "cHHxUOHxCqHp",
        "colab_type": "code",
        "colab": {}
      },
      "source": [
        "import pandas as pd           #kütüphaneleri ekliyoruz\n",
        "import random as rnd\n",
        "import numpy as np \n",
        "import matplotlib.pyplot as plt"
      ],
      "execution_count": 0,
      "outputs": []
    },
    {
      "cell_type": "code",
      "metadata": {
        "id": "j-lZpzfvC8Hd",
        "colab_type": "code",
        "outputId": "2c339a1f-adb2-4a51-b04c-2a8021dfd023",
        "colab": {
          "base_uri": "https://localhost:8080/",
          "height": 34
        }
      },
      "source": [
        "from google.colab import drive\n",
        "drive.mount(\"/content/drive\")"
      ],
      "execution_count": 0,
      "outputs": [
        {
          "output_type": "stream",
          "text": [
            "Drive already mounted at /content/drive; to attempt to forcibly remount, call drive.mount(\"/content/drive\", force_remount=True).\n"
          ],
          "name": "stdout"
        }
      ]
    },
    {
      "cell_type": "code",
      "metadata": {
        "id": "KPugnwYCC-Mx",
        "colab_type": "code",
        "outputId": "1fbec965-2a82-41fa-ce55-030c0a06b17f",
        "colab": {
          "base_uri": "https://localhost:8080/",
          "height": 34
        }
      },
      "source": [
        "%cd \"/content/drive/My Drive/Python Bootcamp/\""
      ],
      "execution_count": 0,
      "outputs": [
        {
          "output_type": "stream",
          "text": [
            "/content/drive/My Drive/Python Bootcamp\n"
          ],
          "name": "stdout"
        }
      ]
    },
    {
      "cell_type": "code",
      "metadata": {
        "id": "YKk6xWd7DBho",
        "colab_type": "code",
        "colab": {}
      },
      "source": [
        "veri_nba=pd.read_csv(\"nba.games.stats.csv\")   #veriyi çekiyoruz.\n",
        "veri_nba"
      ],
      "execution_count": 0,
      "outputs": []
    },
    {
      "cell_type": "code",
      "metadata": {
        "id": "kfjLdfRaDEFs",
        "colab_type": "code",
        "colab": {}
      },
      "source": [
        "lal = veri_nba[veri_nba.Team == 'LAL']   # LAL = Los Angles Lakers\n",
        "bos = veri_nba[veri_nba.Team == 'BOS']    # BOS = Boston Celtics\n"
      ],
      "execution_count": 0,
      "outputs": []
    },
    {
      "cell_type": "code",
      "metadata": {
        "id": "QQfj36GZDqjv",
        "colab_type": "code",
        "colab": {}
      },
      "source": [
        "#date leri o-pandas ile datetime a çevirelim ve son sezona ait olmayanları çıkaralım.\n",
        "\n",
        "lal.Date = lal.Date.apply(lambda x: pd.to_datetime(x, format='%Y-%m-%d', errors='ignore'))\n",
        "lal = lal[lal['Date'] > pd.to_datetime('20171001', format='%Y%m%d', errors='ignore')]\n",
        "\n",
        "bos.Date = bos.Date.apply(lambda x: pd.to_datetime(x, format='%Y-%m-%d', errors='ignore'))\n",
        "bos = bos[bos['Date'] > pd.to_datetime('20171001', format='%Y%m%d', errors='ignore')]"
      ],
      "execution_count": 0,
      "outputs": []
    },
    {
      "cell_type": "code",
      "metadata": {
        "id": "kAkV91dFIpz0",
        "colab_type": "code",
        "outputId": "ac560a4a-8c8e-48c4-88ef-8505074103c5",
        "colab": {
          "base_uri": "https://localhost:8080/",
          "height": 286
        }
      },
      "source": [
        "#Sezon boyunca iki takımın puanlarını karşılaştıralım (LAL == Mavi, BOS == Turuncu) \n",
        "lal.TeamPoints.hist()\n",
        "bos.TeamPoints.hist()"
      ],
      "execution_count": 0,
      "outputs": [
        {
          "output_type": "execute_result",
          "data": {
            "text/plain": [
              "<matplotlib.axes._subplots.AxesSubplot at 0x7f9b2959cda0>"
            ]
          },
          "metadata": {
            "tags": []
          },
          "execution_count": 13
        },
        {
          "output_type": "display_data",
          "data": {
            "image/png": "[encoded data removed]",
            "text/plain": [
              "<Figure size 432x288 with 1 Axes>"
            ]
          },
          "metadata": {
            "tags": []
          }
        }
      ]
    },
    {
      "cell_type": "code",
      "metadata": {
        "id": "GhbIysBLJNaN",
        "colab_type": "code",
        "outputId": "5d375dee-1c54-4a31-f540-4467032f13fb",
        "colab": {
          "base_uri": "https://localhost:8080/",
          "height": 286
        }
      },
      "source": [
        "#Sezon boyunca iki takıma karşı atılan puanları karşılaştırın.\n",
        "\n",
        "lal.OpponentPoints.hist()\n",
        "bos.OpponentPoints.hist()"
      ],
      "execution_count": 0,
      "outputs": [
        {
          "output_type": "execute_result",
          "data": {
            "text/plain": [
              "<matplotlib.axes._subplots.AxesSubplot at 0x7f9b294613c8>"
            ]
          },
          "metadata": {
            "tags": []
          },
          "execution_count": 14
        },
        {
          "output_type": "display_data",
          "data": {
            "image/png": "[encoded data removed]",
            "text/plain": [
              "<Figure size 432x288 with 1 Axes>"
            ]
          },
          "metadata": {
            "tags": []
          }
        }
      ]
    },
    {
      "cell_type": "code",
      "metadata": {
        "id": "9ebohI5dOvfW",
        "colab_type": "code",
        "outputId": "9253412a-908a-453b-a336-14a395119c42",
        "colab": {
          "base_uri": "https://localhost:8080/",
          "height": 153
        }
      },
      "source": [
        "#Simülasyonda kullanılacak takımların başlangıç istatistiklerini hesaplayalım. (takım puanları ve karşı takım puanları için ortalama(mean) ve standartsapma(std))\n",
        "\n",
        "lal_ortpuan = lal.TeamPoints.mean()\n",
        "bos_ortpuan = bos.TeamPoints.mean()\n",
        "lal_sspuan = lal.TeamPoints.std()\n",
        "bos_sspuan = bos.TeamPoints.std()\n",
        "\n",
        "lal_rakip_ortpuan = lal.OpponentPoints.mean()\n",
        "bos_rakip_ortpuan = bos.OpponentPoints.mean()\n",
        "lal_rakip_sspuan = lal.OpponentPoints.std()\n",
        "bos_rakip_sspuan = bos.OpponentPoints.std()\n",
        "\n",
        "print(\"Los Angles Lakers Puan Ortalaması: \", lal_ortpuan)\n",
        "print(\"Los Angles Lakers Puanların Standart Sapması: \", lal_sspuan)\n",
        "print(\"Boston Celtics Puan Ortalaması: \", bos_ortpuan)\n",
        "print(\"Boston Celtics Puanların Standart Sapması: \", bos_sspuan)\n",
        "\n",
        "print(\"Los Angles Lakers Rakiplerin Puan Ortalaması: \", lal_rakip_ortpuan)\n",
        "print(\"Los Angles Lakers Rakiplerin Puanlarının Standart Sapması: \", lal_rakip_sspuan)\n",
        "print(\"Boston Celtics Rakiplerin Puan Ortalaması: \", bos_rakip_ortpuan)\n",
        "print(\"Boston Celtics Rakiplerin Puanlarının Standart Sapması: \", bos_rakip_sspuan)"
      ],
      "execution_count": 0,
      "outputs": [
        {
          "output_type": "stream",
          "text": [
            "Los Angles Lakers Puan Ortalaması:  108.07317073170732\n",
            "Los Angles Lakers Puanların Standart Sapması:  12.100179049593406\n",
            "Boston Celtics Puan Ortalaması:  104.01219512195122\n",
            "Boston Celtics Puanların Standart Sapması:  10.400016503357067\n",
            "Los Angles Lakers Rakiplerin Puan Ortalaması:  109.6219512195122\n",
            "Los Angles Lakers Rakiplerin Puanlarının Standart Sapması:  12.947796651208572\n",
            "Boston Celtics Rakiplerin Puan Ortalaması:  100.42682926829268\n",
            "Boston Celtics Rakiplerin Puanlarının Standart Sapması:  10.67017359920435\n"
          ],
          "name": "stdout"
        }
      ]
    },
    {
      "cell_type": "code",
      "metadata": {
        "id": "NIoegq6qi570",
        "colab_type": "code",
        "colab": {}
      },
      "source": [
        "#Rastgele örnekler için LAL_Skor değeri, BOS_Skor değerinden büyükse 1 döndürecek!\n",
        "\n",
        "def gameSim():\n",
        "    LAL_Skor = (rnd.gauss(lal_ortpuan,lal_sspuan)+ rnd.gauss(bos_rakip_ortpuan,bos_rakip_sspuan))/2\n",
        "    BOS_Skor = (rnd.gauss(bos_ortpuan,bos_sspuan)+ rnd.gauss(lal_rakip_ortpuan,lal_rakip_ortpuan))/2\n",
        "    if int(round(LAL_Skor)) > int(round(BOS_Skor)):\n",
        "        return 1\n",
        "    elif int(round(LAL_Skor)) < int(round(BOS_Skor)):\n",
        "        return -1\n",
        "    else: return 0"
      ],
      "execution_count": 0,
      "outputs": []
    },
    {
      "cell_type": "code",
      "metadata": {
        "id": "dTI2Zzw4oncX",
        "colab_type": "code",
        "outputId": "316e06d5-70c4-4982-b55d-ef8ba551bb09",
        "colab": {
          "base_uri": "https://localhost:8080/",
          "height": 34
        }
      },
      "source": [
        "gameSim()"
      ],
      "execution_count": 0,
      "outputs": [
        {
          "output_type": "execute_result",
          "data": {
            "text/plain": [
              "1"
            ]
          },
          "metadata": {
            "tags": []
          },
          "execution_count": 23
        }
      ]
    },
    {
      "cell_type": "code",
      "metadata": {
        "id": "LFF9_5C3oqaa",
        "colab_type": "code",
        "colab": {}
      },
      "source": [
        "# ns= simülasyon sayısı\n",
        "# gameSim() fonksiyonunu ne kadar çok çalıştırırsak o kadar iyi bir sonuç elde ederiz. Bu fonksiyonun amacı da gameSim() fonksiyonun çalıştımak.!\n",
        "\n",
        "def gamesSim(ns):\n",
        "    #gamesout = []\n",
        "    team1win = 0\n",
        "    team2win = 0\n",
        "    tie = 0\n",
        "    for i in range(ns):\n",
        "        gm = gameSim()\n",
        "        #gamesout.append(gm)\n",
        "        if gm == 1:\n",
        "            team1win +=1 \n",
        "        elif gm == -1:\n",
        "            team2win +=1\n",
        "        else: tie +=1 \n",
        "    print('LAL Win ', team1win/(team1win+team2win+tie),'%')\n",
        "    print('BOS Win ', team2win/(team1win+team2win+tie),'%')\n",
        "    print('Tie ', tie/(team1win+team2win+tie), '%')\n",
        "    return #gamesout"
      ],
      "execution_count": 0,
      "outputs": []
    },
    {
      "cell_type": "code",
      "metadata": {
        "id": "AW2dHWagpLW2",
        "colab_type": "code",
        "outputId": "89958c6e-c738-49f7-884a-06a2e574267d",
        "colab": {
          "base_uri": "https://localhost:8080/",
          "height": 68
        }
      },
      "source": [
        "gamesSim(100)"
      ],
      "execution_count": 0,
      "outputs": [
        {
          "output_type": "stream",
          "text": [
            "LAL Win  0.46 %\n",
            "BOS Win  0.54 %\n",
            "Tie  0.0 %\n"
          ],
          "name": "stdout"
        }
      ]
    },
    {
      "cell_type": "code",
      "metadata": {
        "id": "O8rI0zEQpOWy",
        "colab_type": "code",
        "outputId": "e2434f2b-a427-491e-9f07-cede66713678",
        "colab": {
          "base_uri": "https://localhost:8080/",
          "height": 68
        }
      },
      "source": [
        "gamesSim(1000)"
      ],
      "execution_count": 0,
      "outputs": [
        {
          "output_type": "stream",
          "text": [
            "LAL Win  0.465 %\n",
            "BOS Win  0.531 %\n",
            "Tie  0.004 %\n"
          ],
          "name": "stdout"
        }
      ]
    },
    {
      "cell_type": "code",
      "metadata": {
        "id": "q7FYxG3cpS8B",
        "colab_type": "code",
        "outputId": "fb5c4b5e-2a78-4534-cf87-7ad0abcf19f0",
        "colab": {
          "base_uri": "https://localhost:8080/",
          "height": 68
        }
      },
      "source": [
        "gamesSim(10000)"
      ],
      "execution_count": 0,
      "outputs": [
        {
          "output_type": "stream",
          "text": [
            "LAL Win  0.4823 %\n",
            "BOS Win  0.5115 %\n",
            "Tie  0.0062 %\n"
          ],
          "name": "stdout"
        }
      ]
    },
    {
      "cell_type": "code",
      "metadata": {
        "id": "oKC1COv7pZoQ",
        "colab_type": "code",
        "colab": {}
      },
      "source": [
        ""
      ],
      "execution_count": 0,
      "outputs": []
    }
  ]
}